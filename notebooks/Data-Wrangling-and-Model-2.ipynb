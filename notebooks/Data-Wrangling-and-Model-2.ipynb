{
 "cells": [
  {
   "cell_type": "code",
   "execution_count": 1,
   "metadata": {},
   "outputs": [],
   "source": [
    "import pandas as pd\n",
    "import numpy as np  \n",
    "\n",
    "\n",
    "import seaborn as sns\n",
    "import matplotlib.pyplot as plt"
   ]
  },
  {
   "cell_type": "code",
   "execution_count": 2,
   "metadata": {},
   "outputs": [
    {
     "data": {
      "text/html": [
       "<div>\n",
       "<style scoped>\n",
       "    .dataframe tbody tr th:only-of-type {\n",
       "        vertical-align: middle;\n",
       "    }\n",
       "\n",
       "    .dataframe tbody tr th {\n",
       "        vertical-align: top;\n",
       "    }\n",
       "\n",
       "    .dataframe thead th {\n",
       "        text-align: right;\n",
       "    }\n",
       "</style>\n",
       "<table border=\"1\" class=\"dataframe\">\n",
       "  <thead>\n",
       "    <tr style=\"text-align: right;\">\n",
       "      <th></th>\n",
       "      <th>Radiation</th>\n",
       "      <th>Temperature</th>\n",
       "      <th>Pressure</th>\n",
       "      <th>Humidity</th>\n",
       "      <th>WindDirection(Degrees)</th>\n",
       "      <th>Speed</th>\n",
       "    </tr>\n",
       "  </thead>\n",
       "  <tbody>\n",
       "    <tr>\n",
       "      <th>0</th>\n",
       "      <td>634.99</td>\n",
       "      <td>289.26</td>\n",
       "      <td>4060.99</td>\n",
       "      <td>41</td>\n",
       "      <td>14.96</td>\n",
       "      <td>3.02</td>\n",
       "    </tr>\n",
       "    <tr>\n",
       "      <th>1</th>\n",
       "      <td>1.27</td>\n",
       "      <td>275.93</td>\n",
       "      <td>4034.32</td>\n",
       "      <td>70</td>\n",
       "      <td>207.43</td>\n",
       "      <td>2.51</td>\n",
       "    </tr>\n",
       "    <tr>\n",
       "      <th>2</th>\n",
       "      <td>1.21</td>\n",
       "      <td>281.48</td>\n",
       "      <td>4064.99</td>\n",
       "      <td>33</td>\n",
       "      <td>168.20</td>\n",
       "      <td>2.51</td>\n",
       "    </tr>\n",
       "    <tr>\n",
       "      <th>3</th>\n",
       "      <td>1.67</td>\n",
       "      <td>285.37</td>\n",
       "      <td>4060.99</td>\n",
       "      <td>101</td>\n",
       "      <td>152.60</td>\n",
       "      <td>1.51</td>\n",
       "    </tr>\n",
       "    <tr>\n",
       "      <th>4</th>\n",
       "      <td>839.78</td>\n",
       "      <td>289.82</td>\n",
       "      <td>4062.32</td>\n",
       "      <td>36</td>\n",
       "      <td>291.95</td>\n",
       "      <td>3.52</td>\n",
       "    </tr>\n",
       "  </tbody>\n",
       "</table>\n",
       "</div>"
      ],
      "text/plain": [
       "   Radiation  Temperature  Pressure  Humidity  WindDirection(Degrees)  Speed\n",
       "0     634.99       289.26   4060.99        41                   14.96   3.02\n",
       "1       1.27       275.93   4034.32        70                  207.43   2.51\n",
       "2       1.21       281.48   4064.99        33                  168.20   2.51\n",
       "3       1.67       285.37   4060.99       101                  152.60   1.51\n",
       "4     839.78       289.82   4062.32        36                  291.95   3.52"
      ]
     },
     "execution_count": 2,
     "metadata": {},
     "output_type": "execute_result"
    }
   ],
   "source": [
    "sol_phys_train = pd.read_csv('../data/interim/solar_phys_train.csv')\n",
    "sol_phys_train = sol_phys_train.drop('Unnamed: 0', axis=1)\n",
    "sol_phys_train.head()"
   ]
  },
  {
   "cell_type": "code",
   "execution_count": 3,
   "metadata": {},
   "outputs": [
    {
     "data": {
      "text/html": [
       "<div>\n",
       "<style scoped>\n",
       "    .dataframe tbody tr th:only-of-type {\n",
       "        vertical-align: middle;\n",
       "    }\n",
       "\n",
       "    .dataframe tbody tr th {\n",
       "        vertical-align: top;\n",
       "    }\n",
       "\n",
       "    .dataframe thead th {\n",
       "        text-align: right;\n",
       "    }\n",
       "</style>\n",
       "<table border=\"1\" class=\"dataframe\">\n",
       "  <thead>\n",
       "    <tr style=\"text-align: right;\">\n",
       "      <th></th>\n",
       "      <th>Radiation</th>\n",
       "      <th>Temperature</th>\n",
       "      <th>Pressure</th>\n",
       "      <th>Humidity</th>\n",
       "      <th>WindDirection(Degrees)</th>\n",
       "      <th>Speed</th>\n",
       "    </tr>\n",
       "  </thead>\n",
       "  <tbody>\n",
       "    <tr>\n",
       "      <th>count</th>\n",
       "      <td>24514.000000</td>\n",
       "      <td>24514.000000</td>\n",
       "      <td>24514.000000</td>\n",
       "      <td>24514.000000</td>\n",
       "      <td>24514.000000</td>\n",
       "      <td>24514.000000</td>\n",
       "    </tr>\n",
       "    <tr>\n",
       "      <th>mean</th>\n",
       "      <td>208.062687</td>\n",
       "      <td>283.763923</td>\n",
       "      <td>4056.016801</td>\n",
       "      <td>75.002284</td>\n",
       "      <td>143.129305</td>\n",
       "      <td>2.793646</td>\n",
       "    </tr>\n",
       "    <tr>\n",
       "      <th>std</th>\n",
       "      <td>316.133238</td>\n",
       "      <td>3.452542</td>\n",
       "      <td>7.299362</td>\n",
       "      <td>25.999994</td>\n",
       "      <td>82.939584</td>\n",
       "      <td>1.556280</td>\n",
       "    </tr>\n",
       "    <tr>\n",
       "      <th>min</th>\n",
       "      <td>1.130000</td>\n",
       "      <td>274.260000</td>\n",
       "      <td>4024.990000</td>\n",
       "      <td>11.000000</td>\n",
       "      <td>0.090000</td>\n",
       "      <td>0.000000</td>\n",
       "    </tr>\n",
       "    <tr>\n",
       "      <th>25%</th>\n",
       "      <td>1.230000</td>\n",
       "      <td>280.930000</td>\n",
       "      <td>4052.990000</td>\n",
       "      <td>55.000000</td>\n",
       "      <td>81.872500</td>\n",
       "      <td>1.510000</td>\n",
       "    </tr>\n",
       "    <tr>\n",
       "      <th>50%</th>\n",
       "      <td>2.720000</td>\n",
       "      <td>283.150000</td>\n",
       "      <td>4056.990000</td>\n",
       "      <td>85.000000</td>\n",
       "      <td>147.585000</td>\n",
       "      <td>2.510000</td>\n",
       "    </tr>\n",
       "    <tr>\n",
       "      <th>75%</th>\n",
       "      <td>359.927500</td>\n",
       "      <td>285.930000</td>\n",
       "      <td>4060.990000</td>\n",
       "      <td>97.000000</td>\n",
       "      <td>179.217500</td>\n",
       "      <td>3.520000</td>\n",
       "    </tr>\n",
       "    <tr>\n",
       "      <th>max</th>\n",
       "      <td>1601.260000</td>\n",
       "      <td>294.820000</td>\n",
       "      <td>4074.320000</td>\n",
       "      <td>103.000000</td>\n",
       "      <td>359.950000</td>\n",
       "      <td>17.600000</td>\n",
       "    </tr>\n",
       "  </tbody>\n",
       "</table>\n",
       "</div>"
      ],
      "text/plain": [
       "          Radiation   Temperature      Pressure      Humidity  \\\n",
       "count  24514.000000  24514.000000  24514.000000  24514.000000   \n",
       "mean     208.062687    283.763923   4056.016801     75.002284   \n",
       "std      316.133238      3.452542      7.299362     25.999994   \n",
       "min        1.130000    274.260000   4024.990000     11.000000   \n",
       "25%        1.230000    280.930000   4052.990000     55.000000   \n",
       "50%        2.720000    283.150000   4056.990000     85.000000   \n",
       "75%      359.927500    285.930000   4060.990000     97.000000   \n",
       "max     1601.260000    294.820000   4074.320000    103.000000   \n",
       "\n",
       "       WindDirection(Degrees)         Speed  \n",
       "count            24514.000000  24514.000000  \n",
       "mean               143.129305      2.793646  \n",
       "std                 82.939584      1.556280  \n",
       "min                  0.090000      0.000000  \n",
       "25%                 81.872500      1.510000  \n",
       "50%                147.585000      2.510000  \n",
       "75%                179.217500      3.520000  \n",
       "max                359.950000     17.600000  "
      ]
     },
     "execution_count": 3,
     "metadata": {},
     "output_type": "execute_result"
    }
   ],
   "source": [
    "sol_phys_train.describe()"
   ]
  },
  {
   "cell_type": "code",
   "execution_count": 4,
   "metadata": {},
   "outputs": [],
   "source": [
    "def fix_angle(a):\n",
    "    return round(a/360, 4)"
   ]
  },
  {
   "cell_type": "code",
   "execution_count": 5,
   "metadata": {},
   "outputs": [],
   "source": [
    "sol_phys_train['WindDirection(Degrees)'] = sol_phys_train['WindDirection(Degrees)'].apply(fix_angle)"
   ]
  },
  {
   "cell_type": "code",
   "execution_count": 6,
   "metadata": {},
   "outputs": [
    {
     "data": {
      "text/html": [
       "<div>\n",
       "<style scoped>\n",
       "    .dataframe tbody tr th:only-of-type {\n",
       "        vertical-align: middle;\n",
       "    }\n",
       "\n",
       "    .dataframe tbody tr th {\n",
       "        vertical-align: top;\n",
       "    }\n",
       "\n",
       "    .dataframe thead th {\n",
       "        text-align: right;\n",
       "    }\n",
       "</style>\n",
       "<table border=\"1\" class=\"dataframe\">\n",
       "  <thead>\n",
       "    <tr style=\"text-align: right;\">\n",
       "      <th></th>\n",
       "      <th>Radiation</th>\n",
       "      <th>Temperature</th>\n",
       "      <th>Pressure</th>\n",
       "      <th>Humidity</th>\n",
       "      <th>WindDirection(Degrees)</th>\n",
       "      <th>Speed</th>\n",
       "    </tr>\n",
       "  </thead>\n",
       "  <tbody>\n",
       "    <tr>\n",
       "      <th>count</th>\n",
       "      <td>24514.000000</td>\n",
       "      <td>24514.000000</td>\n",
       "      <td>24514.000000</td>\n",
       "      <td>24514.000000</td>\n",
       "      <td>24514.000000</td>\n",
       "      <td>24514.000000</td>\n",
       "    </tr>\n",
       "    <tr>\n",
       "      <th>mean</th>\n",
       "      <td>208.062687</td>\n",
       "      <td>283.763923</td>\n",
       "      <td>4056.016801</td>\n",
       "      <td>75.002284</td>\n",
       "      <td>0.397581</td>\n",
       "      <td>2.793646</td>\n",
       "    </tr>\n",
       "    <tr>\n",
       "      <th>std</th>\n",
       "      <td>316.133238</td>\n",
       "      <td>3.452542</td>\n",
       "      <td>7.299362</td>\n",
       "      <td>25.999994</td>\n",
       "      <td>0.230388</td>\n",
       "      <td>1.556280</td>\n",
       "    </tr>\n",
       "    <tr>\n",
       "      <th>min</th>\n",
       "      <td>1.130000</td>\n",
       "      <td>274.260000</td>\n",
       "      <td>4024.990000</td>\n",
       "      <td>11.000000</td>\n",
       "      <td>0.000300</td>\n",
       "      <td>0.000000</td>\n",
       "    </tr>\n",
       "    <tr>\n",
       "      <th>25%</th>\n",
       "      <td>1.230000</td>\n",
       "      <td>280.930000</td>\n",
       "      <td>4052.990000</td>\n",
       "      <td>55.000000</td>\n",
       "      <td>0.227400</td>\n",
       "      <td>1.510000</td>\n",
       "    </tr>\n",
       "    <tr>\n",
       "      <th>50%</th>\n",
       "      <td>2.720000</td>\n",
       "      <td>283.150000</td>\n",
       "      <td>4056.990000</td>\n",
       "      <td>85.000000</td>\n",
       "      <td>0.409950</td>\n",
       "      <td>2.510000</td>\n",
       "    </tr>\n",
       "    <tr>\n",
       "      <th>75%</th>\n",
       "      <td>359.927500</td>\n",
       "      <td>285.930000</td>\n",
       "      <td>4060.990000</td>\n",
       "      <td>97.000000</td>\n",
       "      <td>0.497800</td>\n",
       "      <td>3.520000</td>\n",
       "    </tr>\n",
       "    <tr>\n",
       "      <th>max</th>\n",
       "      <td>1601.260000</td>\n",
       "      <td>294.820000</td>\n",
       "      <td>4074.320000</td>\n",
       "      <td>103.000000</td>\n",
       "      <td>0.999900</td>\n",
       "      <td>17.600000</td>\n",
       "    </tr>\n",
       "  </tbody>\n",
       "</table>\n",
       "</div>"
      ],
      "text/plain": [
       "          Radiation   Temperature      Pressure      Humidity  \\\n",
       "count  24514.000000  24514.000000  24514.000000  24514.000000   \n",
       "mean     208.062687    283.763923   4056.016801     75.002284   \n",
       "std      316.133238      3.452542      7.299362     25.999994   \n",
       "min        1.130000    274.260000   4024.990000     11.000000   \n",
       "25%        1.230000    280.930000   4052.990000     55.000000   \n",
       "50%        2.720000    283.150000   4056.990000     85.000000   \n",
       "75%      359.927500    285.930000   4060.990000     97.000000   \n",
       "max     1601.260000    294.820000   4074.320000    103.000000   \n",
       "\n",
       "       WindDirection(Degrees)         Speed  \n",
       "count            24514.000000  24514.000000  \n",
       "mean                 0.397581      2.793646  \n",
       "std                  0.230388      1.556280  \n",
       "min                  0.000300      0.000000  \n",
       "25%                  0.227400      1.510000  \n",
       "50%                  0.409950      2.510000  \n",
       "75%                  0.497800      3.520000  \n",
       "max                  0.999900     17.600000  "
      ]
     },
     "execution_count": 6,
     "metadata": {},
     "output_type": "execute_result"
    }
   ],
   "source": [
    "sol_phys_train.describe()"
   ]
  },
  {
   "cell_type": "code",
   "execution_count": null,
   "metadata": {},
   "outputs": [],
   "source": []
  },
  {
   "cell_type": "code",
   "execution_count": 7,
   "metadata": {},
   "outputs": [],
   "source": [
    "from sklearn.metrics import mean_squared_error\n",
    "from sklearn.svm import SVR\n",
    "import sklearn"
   ]
  },
  {
   "cell_type": "code",
   "execution_count": 8,
   "metadata": {},
   "outputs": [],
   "source": [
    "from sklearn.model_selection import train_test_split\n",
    "import optuna"
   ]
  },
  {
   "cell_type": "code",
   "execution_count": 9,
   "metadata": {},
   "outputs": [],
   "source": [
    "\n",
    "X = sol_phys_train[[c for c in sol_phys_train if c != 'Radiation']]\n",
    "y = sol_phys_train[['Radiation']]\n"
   ]
  },
  {
   "cell_type": "code",
   "execution_count": 10,
   "metadata": {},
   "outputs": [],
   "source": [
    "from sklearn.preprocessing import MinMaxScaler"
   ]
  },
  {
   "cell_type": "code",
   "execution_count": 11,
   "metadata": {},
   "outputs": [],
   "source": [
    "sc_X = MinMaxScaler()\n",
    "sc_y = MinMaxScaler()\n",
    "X = sc_X.fit_transform(X)\n",
    "y = sc_y.fit_transform(y)"
   ]
  },
  {
   "cell_type": "code",
   "execution_count": 12,
   "metadata": {},
   "outputs": [],
   "source": [
    "X_train, X_val, y_train, y_val = sklearn.model_selection.train_test_split(X, y,random_state=0, test_size=0.30)"
   ]
  },
  {
   "cell_type": "code",
   "execution_count": null,
   "metadata": {},
   "outputs": [],
   "source": []
  },
  {
   "cell_type": "code",
   "execution_count": 13,
   "metadata": {},
   "outputs": [],
   "source": [
    "def objective(trial):\n",
    "# Invoke suggest methods of a Trial object to generate hyperparameters.\n",
    "\n",
    "    svr_c = trial.suggest_loguniform('svr_c', 1e-10, 1e10)\n",
    "    epsilon = trial.suggest_loguniform('epsilon', 1e-1, 1e1)\n",
    "        \n",
    "\n",
    "    #X = sol_phys_train[[c for c in sol_phys_train if c != 'Radiation']]\n",
    "    #y = sol_phys_train[['Radiation']]\n",
    "    #X_train, X_val, y_train, y_val = sklearn.model_selection.train_test_split(X, y,random_state=0)\n",
    "    \n",
    "    \n",
    "    model = SVR(C=svr_c, epsilon=epsilon, gamma='auto')\n",
    "    model.fit(X_train, y_train)\n",
    "    \n",
    "    y_pred = model.predict(X_val)\n",
    "    error = sklearn.metrics.mean_squared_error(y_val, y_pred)\n",
    "    \n",
    "    \n",
    "    return error # An objective value linked with the Trial object."
   ]
  },
  {
   "cell_type": "code",
   "execution_count": 14,
   "metadata": {},
   "outputs": [],
   "source": [
    "#study = optuna.create_study()\n",
    "#study.optimize(objective, n_trials=100)\n",
    "#study.best_params"
   ]
  },
  {
   "cell_type": "code",
   "execution_count": null,
   "metadata": {},
   "outputs": [],
   "source": []
  },
  {
   "cell_type": "code",
   "execution_count": 15,
   "metadata": {},
   "outputs": [],
   "source": [
    "# 8.733883088819892, 'epsilon': 0.12896899898357644\n",
    "        \n",
    "#Best is trial#2 with value: 0.039697788902204184."
   ]
  },
  {
   "cell_type": "code",
   "execution_count": null,
   "metadata": {},
   "outputs": [],
   "source": []
  },
  {
   "cell_type": "code",
   "execution_count": 16,
   "metadata": {},
   "outputs": [
    {
     "name": "stderr",
     "output_type": "stream",
     "text": [
      "/home/miguel/anaconda3/lib/python3.7/site-packages/sklearn/utils/validation.py:744: DataConversionWarning:\n",
      "\n",
      "A column-vector y was passed when a 1d array was expected. Please change the shape of y to (n_samples, ), for example using ravel().\n",
      "\n"
     ]
    },
    {
     "data": {
      "text/plain": [
       "SVR(C=8.733883088819892, cache_size=200, coef0=0.0, degree=3,\n",
       "    epsilon=0.12896899898357644, gamma='auto', kernel='rbf', max_iter=-1,\n",
       "    shrinking=True, tol=0.001, verbose=False)"
      ]
     },
     "execution_count": 16,
     "metadata": {},
     "output_type": "execute_result"
    }
   ],
   "source": [
    "svr_c = 8.733883088819892\n",
    "epsilon = 0.12896899898357644\n",
    "\n",
    "model = SVR(kernel='rbf', C=svr_c, epsilon=epsilon, gamma='auto')\n",
    "model.fit(X_train, y_train)"
   ]
  },
  {
   "cell_type": "code",
   "execution_count": 17,
   "metadata": {},
   "outputs": [],
   "source": [
    "predict = model.predict(X_val)"
   ]
  },
  {
   "cell_type": "code",
   "execution_count": 18,
   "metadata": {},
   "outputs": [
    {
     "data": {
      "text/plain": [
       "0.12199687209548707"
      ]
     },
     "execution_count": 18,
     "metadata": {},
     "output_type": "execute_result"
    }
   ],
   "source": [
    "\n",
    "np.sqrt(mean_squared_error(predict, y_val))"
   ]
  },
  {
   "cell_type": "code",
   "execution_count": 19,
   "metadata": {},
   "outputs": [
    {
     "data": {
      "text/html": [
       "<div>\n",
       "<style scoped>\n",
       "    .dataframe tbody tr th:only-of-type {\n",
       "        vertical-align: middle;\n",
       "    }\n",
       "\n",
       "    .dataframe tbody tr th {\n",
       "        vertical-align: top;\n",
       "    }\n",
       "\n",
       "    .dataframe thead th {\n",
       "        text-align: right;\n",
       "    }\n",
       "</style>\n",
       "<table border=\"1\" class=\"dataframe\">\n",
       "  <thead>\n",
       "    <tr style=\"text-align: right;\">\n",
       "      <th></th>\n",
       "      <th>id</th>\n",
       "      <th>Temperature</th>\n",
       "      <th>Pressure</th>\n",
       "      <th>Humidity</th>\n",
       "      <th>WindDirection(Degrees)</th>\n",
       "      <th>Speed</th>\n",
       "    </tr>\n",
       "  </thead>\n",
       "  <tbody>\n",
       "    <tr>\n",
       "      <th>0</th>\n",
       "      <td>0</td>\n",
       "      <td>288.15</td>\n",
       "      <td>4062.32</td>\n",
       "      <td>44</td>\n",
       "      <td>312.67</td>\n",
       "      <td>1.51</td>\n",
       "    </tr>\n",
       "    <tr>\n",
       "      <th>1</th>\n",
       "      <td>1</td>\n",
       "      <td>288.15</td>\n",
       "      <td>4063.65</td>\n",
       "      <td>83</td>\n",
       "      <td>38.01</td>\n",
       "      <td>3.02</td>\n",
       "    </tr>\n",
       "    <tr>\n",
       "      <th>2</th>\n",
       "      <td>2</td>\n",
       "      <td>281.48</td>\n",
       "      <td>4051.66</td>\n",
       "      <td>78</td>\n",
       "      <td>213.62</td>\n",
       "      <td>2.51</td>\n",
       "    </tr>\n",
       "    <tr>\n",
       "      <th>3</th>\n",
       "      <td>3</td>\n",
       "      <td>280.37</td>\n",
       "      <td>4052.99</td>\n",
       "      <td>98</td>\n",
       "      <td>176.63</td>\n",
       "      <td>2.01</td>\n",
       "    </tr>\n",
       "    <tr>\n",
       "      <th>4</th>\n",
       "      <td>4</td>\n",
       "      <td>280.37</td>\n",
       "      <td>4052.99</td>\n",
       "      <td>34</td>\n",
       "      <td>175.89</td>\n",
       "      <td>3.02</td>\n",
       "    </tr>\n",
       "  </tbody>\n",
       "</table>\n",
       "</div>"
      ],
      "text/plain": [
       "   id  Temperature  Pressure  Humidity  WindDirection(Degrees)  Speed\n",
       "0   0       288.15   4062.32        44                  312.67   1.51\n",
       "1   1       288.15   4063.65        83                   38.01   3.02\n",
       "2   2       281.48   4051.66        78                  213.62   2.51\n",
       "3   3       280.37   4052.99        98                  176.63   2.01\n",
       "4   4       280.37   4052.99        34                  175.89   3.02"
      ]
     },
     "execution_count": 19,
     "metadata": {},
     "output_type": "execute_result"
    }
   ],
   "source": [
    "sol_phys_test = pd.read_csv('../data/interim/solar_phys_test.csv')\n",
    "sol_phys_test = sol_phys_test.drop('Unnamed: 0', axis=1)\n",
    "sol_phys_test.head()"
   ]
  },
  {
   "cell_type": "code",
   "execution_count": 20,
   "metadata": {},
   "outputs": [],
   "source": [
    "sol_phys_test['WindDirection(Degrees)'] = sol_phys_test['WindDirection(Degrees)'].apply(fix_angle)"
   ]
  },
  {
   "cell_type": "code",
   "execution_count": 21,
   "metadata": {},
   "outputs": [],
   "source": [
    "X_t = sol_phys_test.drop('id',axis=1)"
   ]
  },
  {
   "cell_type": "code",
   "execution_count": 22,
   "metadata": {},
   "outputs": [],
   "source": [
    "\n",
    "sc_X_t = MinMaxScaler()\n",
    "X_t = sc_X_t.fit_transform(X_t)\n"
   ]
  },
  {
   "cell_type": "code",
   "execution_count": 23,
   "metadata": {},
   "outputs": [],
   "source": [
    "predic_testf = model.predict(X_t)\n",
    "submission2 = pd.DataFrame()\n",
    "submission2['id'] = sol_phys_test['id']\n",
    "submission2['Radiation'] = sc_y.inverse_transform(predic_testf.reshape(-1,1))"
   ]
  },
  {
   "cell_type": "code",
   "execution_count": 24,
   "metadata": {},
   "outputs": [
    {
     "data": {
      "text/html": [
       "<div>\n",
       "<style scoped>\n",
       "    .dataframe tbody tr th:only-of-type {\n",
       "        vertical-align: middle;\n",
       "    }\n",
       "\n",
       "    .dataframe tbody tr th {\n",
       "        vertical-align: top;\n",
       "    }\n",
       "\n",
       "    .dataframe thead th {\n",
       "        text-align: right;\n",
       "    }\n",
       "</style>\n",
       "<table border=\"1\" class=\"dataframe\">\n",
       "  <thead>\n",
       "    <tr style=\"text-align: right;\">\n",
       "      <th></th>\n",
       "      <th>id</th>\n",
       "      <th>Radiation</th>\n",
       "    </tr>\n",
       "  </thead>\n",
       "  <tbody>\n",
       "    <tr>\n",
       "      <th>count</th>\n",
       "      <td>8172.000000</td>\n",
       "      <td>8172.000000</td>\n",
       "    </tr>\n",
       "    <tr>\n",
       "      <th>mean</th>\n",
       "      <td>4085.500000</td>\n",
       "      <td>231.227625</td>\n",
       "    </tr>\n",
       "    <tr>\n",
       "      <th>std</th>\n",
       "      <td>2359.197533</td>\n",
       "      <td>228.419410</td>\n",
       "    </tr>\n",
       "    <tr>\n",
       "      <th>min</th>\n",
       "      <td>0.000000</td>\n",
       "      <td>-254.626226</td>\n",
       "    </tr>\n",
       "    <tr>\n",
       "      <th>25%</th>\n",
       "      <td>2042.750000</td>\n",
       "      <td>96.818944</td>\n",
       "    </tr>\n",
       "    <tr>\n",
       "      <th>50%</th>\n",
       "      <td>4085.500000</td>\n",
       "      <td>158.847086</td>\n",
       "    </tr>\n",
       "    <tr>\n",
       "      <th>75%</th>\n",
       "      <td>6128.250000</td>\n",
       "      <td>317.154579</td>\n",
       "    </tr>\n",
       "    <tr>\n",
       "      <th>max</th>\n",
       "      <td>8171.000000</td>\n",
       "      <td>1208.689847</td>\n",
       "    </tr>\n",
       "  </tbody>\n",
       "</table>\n",
       "</div>"
      ],
      "text/plain": [
       "                id    Radiation\n",
       "count  8172.000000  8172.000000\n",
       "mean   4085.500000   231.227625\n",
       "std    2359.197533   228.419410\n",
       "min       0.000000  -254.626226\n",
       "25%    2042.750000    96.818944\n",
       "50%    4085.500000   158.847086\n",
       "75%    6128.250000   317.154579\n",
       "max    8171.000000  1208.689847"
      ]
     },
     "execution_count": 24,
     "metadata": {},
     "output_type": "execute_result"
    }
   ],
   "source": [
    "submission2.describe()"
   ]
  },
  {
   "cell_type": "code",
   "execution_count": 25,
   "metadata": {},
   "outputs": [
    {
     "data": {
      "text/html": [
       "<div>\n",
       "<style scoped>\n",
       "    .dataframe tbody tr th:only-of-type {\n",
       "        vertical-align: middle;\n",
       "    }\n",
       "\n",
       "    .dataframe tbody tr th {\n",
       "        vertical-align: top;\n",
       "    }\n",
       "\n",
       "    .dataframe thead th {\n",
       "        text-align: right;\n",
       "    }\n",
       "</style>\n",
       "<table border=\"1\" class=\"dataframe\">\n",
       "  <thead>\n",
       "    <tr style=\"text-align: right;\">\n",
       "      <th></th>\n",
       "      <th>id</th>\n",
       "      <th>Radiation</th>\n",
       "    </tr>\n",
       "  </thead>\n",
       "  <tbody>\n",
       "    <tr>\n",
       "      <th>count</th>\n",
       "      <td>8172.000000</td>\n",
       "      <td>8172.000000</td>\n",
       "    </tr>\n",
       "    <tr>\n",
       "      <th>mean</th>\n",
       "      <td>4085.500000</td>\n",
       "      <td>237.533243</td>\n",
       "    </tr>\n",
       "    <tr>\n",
       "      <th>std</th>\n",
       "      <td>2359.197533</td>\n",
       "      <td>220.272418</td>\n",
       "    </tr>\n",
       "    <tr>\n",
       "      <th>min</th>\n",
       "      <td>0.000000</td>\n",
       "      <td>0.000000</td>\n",
       "    </tr>\n",
       "    <tr>\n",
       "      <th>25%</th>\n",
       "      <td>2042.750000</td>\n",
       "      <td>96.818944</td>\n",
       "    </tr>\n",
       "    <tr>\n",
       "      <th>50%</th>\n",
       "      <td>4085.500000</td>\n",
       "      <td>158.847086</td>\n",
       "    </tr>\n",
       "    <tr>\n",
       "      <th>75%</th>\n",
       "      <td>6128.250000</td>\n",
       "      <td>317.154579</td>\n",
       "    </tr>\n",
       "    <tr>\n",
       "      <th>max</th>\n",
       "      <td>8171.000000</td>\n",
       "      <td>1208.689847</td>\n",
       "    </tr>\n",
       "  </tbody>\n",
       "</table>\n",
       "</div>"
      ],
      "text/plain": [
       "                id    Radiation\n",
       "count  8172.000000  8172.000000\n",
       "mean   4085.500000   237.533243\n",
       "std    2359.197533   220.272418\n",
       "min       0.000000     0.000000\n",
       "25%    2042.750000    96.818944\n",
       "50%    4085.500000   158.847086\n",
       "75%    6128.250000   317.154579\n",
       "max    8171.000000  1208.689847"
      ]
     },
     "execution_count": 25,
     "metadata": {},
     "output_type": "execute_result"
    }
   ],
   "source": [
    "submission2['Radiation'] = submission2['Radiation'].apply(lambda x: x if x >= 0 else 0)\n",
    "submission2.describe()"
   ]
  },
  {
   "cell_type": "code",
   "execution_count": 26,
   "metadata": {},
   "outputs": [],
   "source": [
    "submission2.to_csv('../data/processed/submission2.csv')"
   ]
  },
  {
   "cell_type": "code",
   "execution_count": 28,
   "metadata": {},
   "outputs": [],
   "source": [
    "sol_phys_train.to_csv('../data/interim/solar_phys_train.csv')"
   ]
  },
  {
   "cell_type": "code",
   "execution_count": 30,
   "metadata": {},
   "outputs": [],
   "source": [
    "sol_phys_test.to_csv('../data/interim/solar_phys_test.csv')"
   ]
  },
  {
   "cell_type": "code",
   "execution_count": null,
   "metadata": {},
   "outputs": [],
   "source": []
  }
 ],
 "metadata": {
  "kernelspec": {
   "display_name": "Python 3",
   "language": "python",
   "name": "python3"
  },
  "language_info": {
   "codemirror_mode": {
    "name": "ipython",
    "version": 3
   },
   "file_extension": ".py",
   "mimetype": "text/x-python",
   "name": "python",
   "nbconvert_exporter": "python",
   "pygments_lexer": "ipython3",
   "version": "3.7.3"
  }
 },
 "nbformat": 4,
 "nbformat_minor": 2
}
