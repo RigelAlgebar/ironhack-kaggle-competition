{
 "cells": [
  {
   "cell_type": "code",
   "execution_count": 1,
   "metadata": {},
   "outputs": [],
   "source": [
    "import pandas as pd\n",
    "import numpy as np  \n",
    "\n",
    "\n",
    "import seaborn as sns\n",
    "import matplotlib.pyplot as plt\n",
    "\n",
    "\n",
    "from sklearn.metrics import mean_squared_error\n",
    "from sklearn.svm import SVR\n",
    "import sklearn\n",
    "\n",
    "\n",
    "from sklearn.preprocessing import MinMaxScaler\n",
    "from sklearn.model_selection import train_test_split\n",
    "from sklearn.ensemble import RandomForestRegressor\n",
    "import optuna\n",
    "\n",
    "import xgboost as xgb\n"
   ]
  },
  {
   "cell_type": "code",
   "execution_count": 3,
   "metadata": {},
   "outputs": [
    {
     "data": {
      "text/html": [
       "<div>\n",
       "<style scoped>\n",
       "    .dataframe tbody tr th:only-of-type {\n",
       "        vertical-align: middle;\n",
       "    }\n",
       "\n",
       "    .dataframe tbody tr th {\n",
       "        vertical-align: top;\n",
       "    }\n",
       "\n",
       "    .dataframe thead th {\n",
       "        text-align: right;\n",
       "    }\n",
       "</style>\n",
       "<table border=\"1\" class=\"dataframe\">\n",
       "  <thead>\n",
       "    <tr style=\"text-align: right;\">\n",
       "      <th></th>\n",
       "      <th>UNIXTime</th>\n",
       "      <th>Data</th>\n",
       "      <th>Time</th>\n",
       "      <th>Radiation</th>\n",
       "      <th>Temperature</th>\n",
       "      <th>Pressure</th>\n",
       "      <th>Humidity</th>\n",
       "      <th>WindDirection(Degrees)</th>\n",
       "      <th>Speed</th>\n",
       "      <th>TimeSunRise</th>\n",
       "      <th>TimeSunSet</th>\n",
       "    </tr>\n",
       "  </thead>\n",
       "  <tbody>\n",
       "    <tr>\n",
       "      <th>0</th>\n",
       "      <td>1475175023</td>\n",
       "      <td>9/29/2016 12:00:00 AM</td>\n",
       "      <td>08:50:23</td>\n",
       "      <td>634.99</td>\n",
       "      <td>61</td>\n",
       "      <td>30.46</td>\n",
       "      <td>41</td>\n",
       "      <td>14.96</td>\n",
       "      <td>6.75</td>\n",
       "      <td>06:13:00</td>\n",
       "      <td>18:13:00</td>\n",
       "    </tr>\n",
       "    <tr>\n",
       "      <th>1</th>\n",
       "      <td>1481799902</td>\n",
       "      <td>12/15/2016 12:00:00 AM</td>\n",
       "      <td>01:05:02</td>\n",
       "      <td>1.27</td>\n",
       "      <td>37</td>\n",
       "      <td>30.26</td>\n",
       "      <td>70</td>\n",
       "      <td>207.43</td>\n",
       "      <td>5.62</td>\n",
       "      <td>06:50:00</td>\n",
       "      <td>17:46:00</td>\n",
       "    </tr>\n",
       "    <tr>\n",
       "      <th>2</th>\n",
       "      <td>1478339417</td>\n",
       "      <td>11/4/2016 12:00:00 AM</td>\n",
       "      <td>23:50:17</td>\n",
       "      <td>1.21</td>\n",
       "      <td>47</td>\n",
       "      <td>30.49</td>\n",
       "      <td>33</td>\n",
       "      <td>168.20</td>\n",
       "      <td>5.62</td>\n",
       "      <td>06:25:00</td>\n",
       "      <td>17:47:00</td>\n",
       "    </tr>\n",
       "    <tr>\n",
       "      <th>3</th>\n",
       "      <td>1472887208</td>\n",
       "      <td>9/2/2016 12:00:00 AM</td>\n",
       "      <td>21:20:08</td>\n",
       "      <td>1.67</td>\n",
       "      <td>54</td>\n",
       "      <td>30.46</td>\n",
       "      <td>101</td>\n",
       "      <td>152.60</td>\n",
       "      <td>3.37</td>\n",
       "      <td>06:07:00</td>\n",
       "      <td>18:37:00</td>\n",
       "    </tr>\n",
       "    <tr>\n",
       "      <th>4</th>\n",
       "      <td>1478724901</td>\n",
       "      <td>11/9/2016 12:00:00 AM</td>\n",
       "      <td>10:55:01</td>\n",
       "      <td>839.78</td>\n",
       "      <td>62</td>\n",
       "      <td>30.47</td>\n",
       "      <td>36</td>\n",
       "      <td>291.95</td>\n",
       "      <td>7.87</td>\n",
       "      <td>06:28:00</td>\n",
       "      <td>17:45:00</td>\n",
       "    </tr>\n",
       "  </tbody>\n",
       "</table>\n",
       "</div>"
      ],
      "text/plain": [
       "     UNIXTime                    Data      Time  Radiation  Temperature  \\\n",
       "0  1475175023   9/29/2016 12:00:00 AM  08:50:23     634.99           61   \n",
       "1  1481799902  12/15/2016 12:00:00 AM  01:05:02       1.27           37   \n",
       "2  1478339417   11/4/2016 12:00:00 AM  23:50:17       1.21           47   \n",
       "3  1472887208    9/2/2016 12:00:00 AM  21:20:08       1.67           54   \n",
       "4  1478724901   11/9/2016 12:00:00 AM  10:55:01     839.78           62   \n",
       "\n",
       "   Pressure  Humidity  WindDirection(Degrees)  Speed TimeSunRise TimeSunSet  \n",
       "0     30.46        41                   14.96   6.75    06:13:00   18:13:00  \n",
       "1     30.26        70                  207.43   5.62    06:50:00   17:46:00  \n",
       "2     30.49        33                  168.20   5.62    06:25:00   17:47:00  \n",
       "3     30.46       101                  152.60   3.37    06:07:00   18:37:00  \n",
       "4     30.47        36                  291.95   7.87    06:28:00   17:45:00  "
      ]
     },
     "execution_count": 3,
     "metadata": {},
     "output_type": "execute_result"
    }
   ],
   "source": [
    "solar_original_train = pd.read_csv('../data/external/solar_train.csv')\n",
    "solar_original_train.head()"
   ]
  },
  {
   "cell_type": "code",
   "execution_count": 19,
   "metadata": {},
   "outputs": [
    {
     "data": {
      "text/html": [
       "<div>\n",
       "<style scoped>\n",
       "    .dataframe tbody tr th:only-of-type {\n",
       "        vertical-align: middle;\n",
       "    }\n",
       "\n",
       "    .dataframe tbody tr th {\n",
       "        vertical-align: top;\n",
       "    }\n",
       "\n",
       "    .dataframe thead th {\n",
       "        text-align: right;\n",
       "    }\n",
       "</style>\n",
       "<table border=\"1\" class=\"dataframe\">\n",
       "  <thead>\n",
       "    <tr style=\"text-align: right;\">\n",
       "      <th></th>\n",
       "      <th>Radiation</th>\n",
       "      <th>Temperature</th>\n",
       "      <th>Humidity</th>\n",
       "      <th>WindDirection(Degrees)</th>\n",
       "      <th>SunTime</th>\n",
       "      <th>DayFraction</th>\n",
       "    </tr>\n",
       "  </thead>\n",
       "  <tbody>\n",
       "    <tr>\n",
       "      <th>0</th>\n",
       "      <td>228.26</td>\n",
       "      <td>287.04</td>\n",
       "      <td>93</td>\n",
       "      <td>0.0024</td>\n",
       "      <td>0.514583</td>\n",
       "      <td>0.632153</td>\n",
       "    </tr>\n",
       "    <tr>\n",
       "      <th>1</th>\n",
       "      <td>1.22</td>\n",
       "      <td>280.37</td>\n",
       "      <td>93</td>\n",
       "      <td>0.2611</td>\n",
       "      <td>0.458333</td>\n",
       "      <td>0.837222</td>\n",
       "    </tr>\n",
       "    <tr>\n",
       "      <th>2</th>\n",
       "      <td>566.83</td>\n",
       "      <td>287.59</td>\n",
       "      <td>52</td>\n",
       "      <td>0.1135</td>\n",
       "      <td>0.500000</td>\n",
       "      <td>0.673866</td>\n",
       "    </tr>\n",
       "    <tr>\n",
       "      <th>3</th>\n",
       "      <td>447.70</td>\n",
       "      <td>284.26</td>\n",
       "      <td>96</td>\n",
       "      <td>0.1250</td>\n",
       "      <td>0.476389</td>\n",
       "      <td>0.385625</td>\n",
       "    </tr>\n",
       "    <tr>\n",
       "      <th>4</th>\n",
       "      <td>1.22</td>\n",
       "      <td>283.71</td>\n",
       "      <td>86</td>\n",
       "      <td>0.4854</td>\n",
       "      <td>0.490972</td>\n",
       "      <td>0.972465</td>\n",
       "    </tr>\n",
       "  </tbody>\n",
       "</table>\n",
       "</div>"
      ],
      "text/plain": [
       "   Radiation  Temperature  Humidity  WindDirection(Degrees)   SunTime  \\\n",
       "0     228.26       287.04        93                  0.0024  0.514583   \n",
       "1       1.22       280.37        93                  0.2611  0.458333   \n",
       "2     566.83       287.59        52                  0.1135  0.500000   \n",
       "3     447.70       284.26        96                  0.1250  0.476389   \n",
       "4       1.22       283.71        86                  0.4854  0.490972   \n",
       "\n",
       "   DayFraction  \n",
       "0     0.632153  \n",
       "1     0.837222  \n",
       "2     0.673866  \n",
       "3     0.385625  \n",
       "4     0.972465  "
      ]
     },
     "execution_count": 19,
     "metadata": {},
     "output_type": "execute_result"
    }
   ],
   "source": [
    "solar_pro_5 = pd.read_csv('../data/interim/solar_pro4_train_nt.csv')\n",
    "solar_pro_5.drop(columns=['TimeSunSet', 'YearFraction'], inplace=True)\n",
    "solar_pro_5.head()\n"
   ]
  },
  {
   "cell_type": "code",
   "execution_count": 20,
   "metadata": {},
   "outputs": [
    {
     "data": {
      "image/png": "[encoded data removed]",
      "text/plain": [
       "<Figure size 1080x720 with 2 Axes>"
      ]
     },
     "metadata": {
      "needs_background": "light"
     },
     "output_type": "display_data"
    }
   ],
   "source": [
    "plt.figure(figsize=(15,10))\n",
    "sns.heatmap(solar_pro_5.corr(), cmap = 'hsv', annot=True, linewidths=0.10)\n",
    "plt.show()"
   ]
  },
  {
   "cell_type": "code",
   "execution_count": 22,
   "metadata": {},
   "outputs": [],
   "source": [
    "solar_pro_5.to_csv('../data/interim/solar_pro5_train_nt.csv')"
   ]
  },
  {
   "cell_type": "code",
   "execution_count": null,
   "metadata": {},
   "outputs": [],
   "source": []
  },
  {
   "cell_type": "code",
   "execution_count": null,
   "metadata": {},
   "outputs": [],
   "source": []
  },
  {
   "cell_type": "code",
   "execution_count": 27,
   "metadata": {},
   "outputs": [
    {
     "data": {
      "text/html": [
       "<div>\n",
       "<style scoped>\n",
       "    .dataframe tbody tr th:only-of-type {\n",
       "        vertical-align: middle;\n",
       "    }\n",
       "\n",
       "    .dataframe tbody tr th {\n",
       "        vertical-align: top;\n",
       "    }\n",
       "\n",
       "    .dataframe thead th {\n",
       "        text-align: right;\n",
       "    }\n",
       "</style>\n",
       "<table border=\"1\" class=\"dataframe\">\n",
       "  <thead>\n",
       "    <tr style=\"text-align: right;\">\n",
       "      <th></th>\n",
       "      <th>Temperature</th>\n",
       "      <th>Humidity</th>\n",
       "      <th>WindDirection(Degrees)</th>\n",
       "      <th>SunTime</th>\n",
       "      <th>TimeSunSet</th>\n",
       "      <th>DayFraction</th>\n",
       "      <th>YearFraction</th>\n",
       "    </tr>\n",
       "  </thead>\n",
       "  <tbody>\n",
       "    <tr>\n",
       "      <th>0</th>\n",
       "      <td>283.71</td>\n",
       "      <td>103</td>\n",
       "      <td>0.3946</td>\n",
       "      <td>0.521528</td>\n",
       "      <td>0.776389</td>\n",
       "      <td>0.013958</td>\n",
       "      <td>0.671233</td>\n",
       "    </tr>\n",
       "    <tr>\n",
       "      <th>1</th>\n",
       "      <td>283.71</td>\n",
       "      <td>103</td>\n",
       "      <td>0.4391</td>\n",
       "      <td>0.521528</td>\n",
       "      <td>0.776389</td>\n",
       "      <td>0.048681</td>\n",
       "      <td>0.671347</td>\n",
       "    </tr>\n",
       "    <tr>\n",
       "      <th>2</th>\n",
       "      <td>283.71</td>\n",
       "      <td>103</td>\n",
       "      <td>0.1102</td>\n",
       "      <td>0.521528</td>\n",
       "      <td>0.776389</td>\n",
       "      <td>0.052245</td>\n",
       "      <td>0.671347</td>\n",
       "    </tr>\n",
       "    <tr>\n",
       "      <th>3</th>\n",
       "      <td>283.71</td>\n",
       "      <td>103</td>\n",
       "      <td>0.3123</td>\n",
       "      <td>0.521528</td>\n",
       "      <td>0.776389</td>\n",
       "      <td>0.059097</td>\n",
       "      <td>0.671347</td>\n",
       "    </tr>\n",
       "    <tr>\n",
       "      <th>4</th>\n",
       "      <td>283.71</td>\n",
       "      <td>103</td>\n",
       "      <td>0.1835</td>\n",
       "      <td>0.521528</td>\n",
       "      <td>0.776389</td>\n",
       "      <td>0.079907</td>\n",
       "      <td>0.671347</td>\n",
       "    </tr>\n",
       "  </tbody>\n",
       "</table>\n",
       "</div>"
      ],
      "text/plain": [
       "   Temperature  Humidity  WindDirection(Degrees)   SunTime  TimeSunSet  \\\n",
       "0       283.71       103                  0.3946  0.521528    0.776389   \n",
       "1       283.71       103                  0.4391  0.521528    0.776389   \n",
       "2       283.71       103                  0.1102  0.521528    0.776389   \n",
       "3       283.71       103                  0.3123  0.521528    0.776389   \n",
       "4       283.71       103                  0.1835  0.521528    0.776389   \n",
       "\n",
       "   DayFraction  YearFraction  \n",
       "0     0.013958      0.671233  \n",
       "1     0.048681      0.671347  \n",
       "2     0.052245      0.671347  \n",
       "3     0.059097      0.671347  \n",
       "4     0.079907      0.671347  "
      ]
     },
     "execution_count": 27,
     "metadata": {},
     "output_type": "execute_result"
    }
   ],
   "source": [
    "sol_pro5_test = pd.read_csv('../data/interim/solar_pro4_test_nt.csv')\n",
    "sol_pro5_test.head()"
   ]
  },
  {
   "cell_type": "code",
   "execution_count": 28,
   "metadata": {},
   "outputs": [],
   "source": [
    "sol_pro5_test.drop(columns=['TimeSunSet', 'YearFraction'], inplace=True)"
   ]
  },
  {
   "cell_type": "code",
   "execution_count": 29,
   "metadata": {},
   "outputs": [
    {
     "data": {
      "image/png": "[encoded data removed]",
      "text/plain": [
       "<Figure size 1080x720 with 2 Axes>"
      ]
     },
     "metadata": {
      "needs_background": "light"
     },
     "output_type": "display_data"
    }
   ],
   "source": [
    "plt.figure(figsize=(15,10))\n",
    "sns.heatmap(sol_pro5_test.corr(), cmap = 'hsv', annot=True, linewidths=0.10)\n",
    "plt.show()"
   ]
  },
  {
   "cell_type": "code",
   "execution_count": 31,
   "metadata": {},
   "outputs": [],
   "source": [
    "sol_pro5_test.to_csv('../data/interim/solar_pro5_test_nt.csv')"
   ]
  },
  {
   "cell_type": "code",
   "execution_count": null,
   "metadata": {},
   "outputs": [],
   "source": []
  }
 ],
 "metadata": {
  "kernelspec": {
   "display_name": "Python 3",
   "language": "python",
   "name": "python3"
  },
  "language_info": {
   "codemirror_mode": {
    "name": "ipython",
    "version": 3
   },
   "file_extension": ".py",
   "mimetype": "text/x-python",
   "name": "python",
   "nbconvert_exporter": "python",
   "pygments_lexer": "ipython3",
   "version": "3.7.3"
  }
 },
 "nbformat": 4,
 "nbformat_minor": 2
}
